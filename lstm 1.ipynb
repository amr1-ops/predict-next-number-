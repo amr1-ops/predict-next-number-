{
 "cells": [
  {
   "cell_type": "code",
   "execution_count": 1,
   "metadata": {
    "id": "6cQdhUdcV1LU"
   },
   "outputs": [],
   "source": [
    "import numpy as np\n",
    "import pandas as pd\n",
    "from keras.models import Sequential\n",
    "from keras.layers import LSTM, Dense,Dropout\n",
    "\n",
    "from sklearn.preprocessing import MinMaxScaler\n",
    "\n",
    "scaler = MinMaxScaler(feature_range=(0,6))#11\n",
    "raw = pd.read_csv('Data.csv')\n",
    "scaled = scaler.fit_transform(raw)\n",
    "raw_data = scaled.tolist()\n",
    "\n",
    "data = np.array(raw_data)\n",
    "\n",
    "# Reshape into X=t and Y=t+1\n",
    "X = []\n",
    "for i in range(len(data)):\n",
    "  X.append(data[i])\n",
    "\n",
    "X = np.array(X).reshape(-1, 1, 1)\n",
    "\n",
    "# Create model\n",
    "# Build LSTM model\n",
    "model = Sequential()\n",
    "model.add(LSTM(32, return_sequences=True, input_shape=(1, 1)))\n",
    "model.add(LSTM(16))\n",
    "model.add(Dense(1))\n",
    "\n",
    "# Compile model\n",
    "model.compile(loss=\"binary_crossentropy\", optimizer=\"adam\")\n",
    "\n"
   ]
  },
  {
   "cell_type": "code",
   "execution_count": 48,
   "metadata": {
    "colab": {
     "base_uri": "https://localhost:8080/"
    },
    "id": "jWWyOKZxV75w",
    "outputId": "69cb8692-4615-45e6-e48d-97cc8bfc0cfd"
   },
   "outputs": [
    {
     "data": {
      "text/plain": [
       "<keras.callbacks.History at 0x2b2fff0f550>"
      ]
     },
     "execution_count": 48,
     "metadata": {},
     "output_type": "execute_result"
    }
   ],
   "source": [
    "# Train model\n",
    "model.fit(X, X, epochs=100, batch_size=32,  verbose=0)"
   ]
  },
  {
   "cell_type": "code",
   "execution_count": 51,
   "metadata": {
    "colab": {
     "base_uri": "https://localhost:8080/"
    },
    "id": "FAcYaQYOV7vh",
    "outputId": "165c6bfd-fc43-4542-ae85-c6b7106a631f"
   },
   "outputs": [
    {
     "name": "stdout",
     "output_type": "stream",
     "text": [
      "1.66\n",
      "1/1 [==============================] - 0s 46ms/step\n",
      "[[1.6285361]]\n"
     ]
    }
   ],
   "source": [
    "lis = [float(x) for x in input().split()]\n",
    "test_data = pd.DataFrame({'42.79': lis})\n",
    "test_data = scaler.transform(test_data)\n",
    "test_data = test_data.tolist()\n",
    "\n",
    "x_input = np.array(test_data).reshape(-1, 1, 1)\n",
    "y_pred = np.array(model.predict(x_input)).reshape((1, 1))\n",
    "#print(y_pred)\n",
    "fin = scaler.inverse_transform(y_pred)\n",
    "print(fin)"
   ]
  },
  {
   "cell_type": "code",
   "execution_count": 52,
   "metadata": {
    "colab": {
     "base_uri": "https://localhost:8080/"
    },
    "id": "wGKnTUqJJuDA",
    "outputId": "a02a5a56-81f3-418f-cf27-34128503dedf"
   },
   "outputs": [
    {
     "name": "stderr",
     "output_type": "stream",
     "text": [
      "WARNING:absl:Found untraced functions such as _update_step_xla, lstm_cell_12_layer_call_fn, lstm_cell_12_layer_call_and_return_conditional_losses, lstm_cell_13_layer_call_fn, lstm_cell_13_layer_call_and_return_conditional_losses while saving (showing 5 of 5). These functions will not be directly callable after loading.\n"
     ]
    },
    {
     "name": "stdout",
     "output_type": "stream",
     "text": [
      "INFO:tensorflow:Assets written to: predict.model\\assets\n"
     ]
    },
    {
     "name": "stderr",
     "output_type": "stream",
     "text": [
      "INFO:tensorflow:Assets written to: predict.model\\assets\n"
     ]
    }
   ],
   "source": [
    "model.save(\"predict.model\")"
   ]
  },
  {
   "cell_type": "code",
   "execution_count": 1,
   "metadata": {},
   "outputs": [],
   "source": [
    "from tensorflow.keras import models\n",
    "import numpy as np\n",
    "import pandas as pd\n",
    "from keras.models import Sequential\n",
    "from keras.layers import LSTM, Dense,Dropout\n",
    "from sklearn.preprocessing import MinMaxScaler\n",
    "scaler = MinMaxScaler(feature_range=(0,6))#11\n",
    "raw = pd.read_csv('Data.csv')\n",
    "scaled = scaler.fit_transform(raw)\n",
    "model = models.load_model(\"predict.model\")"
   ]
  },
  {
   "cell_type": "code",
   "execution_count": 16,
   "metadata": {},
   "outputs": [
    {
     "name": "stdout",
     "output_type": "stream",
     "text": [
      "3.41\n",
      "1/1 [==============================] - 0s 19ms/step\n",
      "[[3.1396537]]\n",
      "less\n"
     ]
    }
   ],
   "source": [
    "lis = [float(input())]\n",
    "test_data = pd.DataFrame({'42.79': lis})\n",
    "test_data = scaler.transform(test_data)\n",
    "test_data = test_data.tolist()\n",
    "\n",
    "x_input = np.array(test_data).reshape(-1, 1, 1)\n",
    "y_pred = np.array(model.predict(x_input)).reshape((1, 1))\n",
    "#print(y_pred)\n",
    "fin = scaler.inverse_transform(y_pred)\n",
    "print(fin)\n",
    "if fin > lis:\n",
    "    print(\"greater\")\n",
    "else:\n",
    "    print(\"less\")"
   ]
  },
  {
   "cell_type": "code",
   "execution_count": null,
   "metadata": {},
   "outputs": [],
   "source": [
    "# 1.33 -->1.34  (1.34) \n",
    "# 1.63 -->1.6   (1.6) \n",
    "# 2.29 -->2.16  (2.01)\n",
    "# 3.33 -->3.06  (2.97)\n",
    "# 1.98 -->1.9  (1.5)"
   ]
  },
  {
   "cell_type": "code",
   "execution_count": null,
   "metadata": {},
   "outputs": [],
   "source": [
    "# input-->output\n",
    "# 1.14 -->1.18 true\n",
    "# 1.84-->1.78 false\n",
    "# 2.55-->2.39 true\n",
    "# 1.33-->1.34 true\n",
    "# 7.25-->6.54 true\n",
    "# 1.10-->1.15 true\n",
    "# 1.36-->1.37 true\n",
    "# 1.50-->1.49 true\n",
    "# 1.34-->1.35 true\n",
    "# 3.65-->3.34 true\n",
    "# 1.84-->1.78 false\n",
    "# 2.07-->1.98 false"
   ]
  }
 ],
 "metadata": {
  "colab": {
   "provenance": []
  },
  "kernelspec": {
   "display_name": "Python 3 (ipykernel)",
   "language": "python",
   "name": "python3"
  },
  "language_info": {
   "codemirror_mode": {
    "name": "ipython",
    "version": 3
   },
   "file_extension": ".py",
   "mimetype": "text/x-python",
   "name": "python",
   "nbconvert_exporter": "python",
   "pygments_lexer": "ipython3",
   "version": "3.10.9"
  }
 },
 "nbformat": 4,
 "nbformat_minor": 1
}
